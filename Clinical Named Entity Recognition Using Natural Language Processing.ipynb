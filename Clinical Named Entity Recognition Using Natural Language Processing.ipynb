{
 "cells": [
  {
   "cell_type": "code",
   "execution_count": 1,
   "id": "d2eaed10-331d-4b18-8397-740328148e79",
   "metadata": {},
   "outputs": [],
   "source": [
    "# Install necessary libraries\n",
    "# pip install  transformers \n",
    "# pip install seqeval\n",
    "#!pip install datasets\n"
   ]
  },
  {
   "cell_type": "code",
   "execution_count": 2,
   "id": "f21eb80a-1898-4237-be7e-545268076683",
   "metadata": {},
   "outputs": [],
   "source": [
    "#pip install  transformers"
   ]
  },
  {
   "cell_type": "code",
   "execution_count": 3,
   "id": "d56aae48-c94e-41f1-8aa5-2f75b52b87d1",
   "metadata": {},
   "outputs": [],
   "source": [
    "#pip install seqeval"
   ]
  },
  {
   "cell_type": "code",
   "execution_count": 4,
   "id": "57f47931-f097-4bef-84e0-b71a4d8434f1",
   "metadata": {},
   "outputs": [],
   "source": [
    "#pip install --upgrade pyarrow"
   ]
  },
  {
   "cell_type": "code",
   "execution_count": 5,
   "id": "7e92e79a-0a34-4660-9d57-ff784c49ad74",
   "metadata": {},
   "outputs": [],
   "source": [
    "#pip install --upgrade datasets"
   ]
  },
  {
   "cell_type": "code",
   "execution_count": 4,
   "id": "a7cb4d04-eb84-4638-b959-2415d3a7ceea",
   "metadata": {},
   "outputs": [],
   "source": [
    "#pip install ipywidgets\n",
    "import warnings\n",
    "from tqdm import TqdmWarning\n",
    "warnings.filterwarnings(\"ignore\", category=TqdmWarning)"
   ]
  },
  {
   "cell_type": "code",
   "execution_count": 5,
   "id": "63e5e396-5874-4a67-95ae-fe4faa1dbda9",
   "metadata": {},
   "outputs": [],
   "source": [
    "from datasets import load_dataset\n",
    "\n",
    "# Allow execution of custom code in the dataset repository\n",
    "dataset = load_dataset('ncbi_disease', trust_remote_code=True)"
   ]
  },
  {
   "cell_type": "code",
   "execution_count": 6,
   "id": "de6ce960-e74c-4720-8c05-8dc041053de0",
   "metadata": {},
   "outputs": [
    {
     "data": {
      "text/plain": [
       "DatasetDict({\n",
       "    train: Dataset({\n",
       "        features: ['id', 'tokens', 'ner_tags'],\n",
       "        num_rows: 5433\n",
       "    })\n",
       "    validation: Dataset({\n",
       "        features: ['id', 'tokens', 'ner_tags'],\n",
       "        num_rows: 924\n",
       "    })\n",
       "    test: Dataset({\n",
       "        features: ['id', 'tokens', 'ner_tags'],\n",
       "        num_rows: 941\n",
       "    })\n",
       "})"
      ]
     },
     "execution_count": 6,
     "metadata": {},
     "output_type": "execute_result"
    }
   ],
   "source": [
    "dataset"
   ]
  },
  {
   "cell_type": "code",
   "execution_count": 7,
   "id": "8e248154-e60f-4578-ab43-04044f5d6ab8",
   "metadata": {},
   "outputs": [
    {
     "name": "stdout",
     "output_type": "stream",
     "text": [
      "DatasetDict({\n",
      "    train: Dataset({\n",
      "        features: ['id', 'tokens', 'ner_tags'],\n",
      "        num_rows: 5433\n",
      "    })\n",
      "    validation: Dataset({\n",
      "        features: ['id', 'tokens', 'ner_tags'],\n",
      "        num_rows: 924\n",
      "    })\n",
      "    test: Dataset({\n",
      "        features: ['id', 'tokens', 'ner_tags'],\n",
      "        num_rows: 941\n",
      "    })\n",
      "})\n",
      "{'id': '0', 'tokens': ['Identification', 'of', 'APC2', ',', 'a', 'homologue', 'of', 'the', 'adenomatous', 'polyposis', 'coli', 'tumour', 'suppressor', '.'], 'ner_tags': [0, 0, 0, 0, 0, 0, 0, 0, 1, 2, 2, 2, 0, 0]}\n",
      "Label List: ['O', 'B-Disease', 'I-Disease']\n"
     ]
    }
   ],
   "source": [
    "# View dataset splits\n",
    "print(dataset)\n",
    "\n",
    "# Access the training set\n",
    "train_dataset = dataset['train']\n",
    "\n",
    "# View an example\n",
    "print(train_dataset[0])\n",
    "\n",
    "# Check label names\n",
    "label_list = train_dataset.features['ner_tags'].feature.names\n",
    "print(\"Label List:\", label_list)\n",
    "\n",
    "# Number of labels\n",
    "num_labels = len(label_list)"
   ]
  },
  {
   "cell_type": "code",
   "execution_count": 9,
   "id": "5b6de30b-0aee-4770-8070-b5baf1b16270",
   "metadata": {},
   "outputs": [],
   "source": [
    "# Data Preprocessing and Tokenization"
   ]
  },
  {
   "cell_type": "code",
   "execution_count": 8,
   "id": "1589e740-b8f8-4c19-9af8-8c7ddfcdd333",
   "metadata": {},
   "outputs": [],
   "source": [
    "from transformers import AutoTokenizer\n",
    "\n",
    "# Load a pre-trained tokenizer\n",
    "tokenizer = AutoTokenizer.from_pretrained('bert-base-cased')\n",
    "\n",
    "# Function to tokenize and align labels\n",
    "def tokenize_and_align_labels(examples):\n",
    "    tokenized_inputs = tokenizer(\n",
    "        examples['tokens'],\n",
    "        is_split_into_words=True,\n",
    "        truncation=True,\n",
    "        padding='max_length',\n",
    "        max_length=128\n",
    "    )\n",
    "    labels = []\n",
    "    for i, label in enumerate(examples['ner_tags']):\n",
    "        word_ids = tokenized_inputs.word_ids(batch_index=i)\n",
    "        previous_word_idx = None\n",
    "        label_ids = []\n",
    "        for word_idx in word_ids:\n",
    "            if word_idx is None:\n",
    "                label_ids.append(-100)  # Special tokens\n",
    "            elif word_idx != previous_word_idx:\n",
    "                label_ids.append(label[word_idx])\n",
    "            else:\n",
    "                label_ids.append(label[word_idx] if label[word_idx] != 0 else 0)\n",
    "            previous_word_idx = word_idx\n",
    "        labels.append(label_ids)\n",
    "    tokenized_inputs['labels'] = labels\n",
    "    return tokenized_inputs\n",
    "\n",
    "# Apply the function to the dataset\n",
    "tokenized_datasets = dataset.map(tokenize_and_align_labels, batched=True)"
   ]
  },
  {
   "cell_type": "code",
   "execution_count": 11,
   "id": "e852b5c6-5253-4956-8a22-f8944580dfa8",
   "metadata": {},
   "outputs": [],
   "source": [
    "# Model Development"
   ]
  },
  {
   "cell_type": "code",
   "execution_count": 12,
   "id": "6daf27c8-bf52-4c46-b58a-cae14c784698",
   "metadata": {},
   "outputs": [],
   "source": [
    "#%pip install tf-keras"
   ]
  },
  {
   "cell_type": "code",
   "execution_count": 13,
   "id": "f41f65a7-62c3-46ab-81c1-7a41c9bbb6bd",
   "metadata": {},
   "outputs": [],
   "source": [
    "#pip install torch torchvision torchaudio"
   ]
  },
  {
   "cell_type": "code",
   "execution_count": 9,
   "id": "8085d30c-bcf1-4513-8a00-62e7d957ed53",
   "metadata": {},
   "outputs": [
    {
     "name": "stdout",
     "output_type": "stream",
     "text": [
      "2.5.1+cpu\n"
     ]
    }
   ],
   "source": [
    "import torch\n",
    "print(torch.__version__)"
   ]
  },
  {
   "cell_type": "code",
   "execution_count": 15,
   "id": "12ccbb92-0133-448c-a31a-7f4a9d22c311",
   "metadata": {},
   "outputs": [],
   "source": [
    "#pip install transformers[torch]"
   ]
  },
  {
   "cell_type": "code",
   "execution_count": 16,
   "id": "ccbf4cc4-689a-494e-9f81-581346c8e180",
   "metadata": {},
   "outputs": [],
   "source": [
    "#pip install accelerate>=0.26.0"
   ]
  },
  {
   "cell_type": "code",
   "execution_count": 10,
   "id": "3a0ae06f-abd0-4e31-bd5b-8299a6b339c1",
   "metadata": {},
   "outputs": [],
   "source": [
    "import tensorflow as tf"
   ]
  },
  {
   "cell_type": "code",
   "execution_count": 11,
   "id": "94fb7fbf-368d-4dbd-8f7a-12d64cf4f5b5",
   "metadata": {},
   "outputs": [
    {
     "name": "stdout",
     "output_type": "stream",
     "text": [
      "WARNING:tensorflow:From C:\\Users\\s.diedhiou\\AppData\\Local\\anaconda3\\envs\\my_conda_env_with_py311\\Lib\\site-packages\\tf_keras\\src\\losses.py:2976: The name tf.losses.sparse_softmax_cross_entropy is deprecated. Please use tf.compat.v1.losses.sparse_softmax_cross_entropy instead.\n",
      "\n"
     ]
    },
    {
     "name": "stderr",
     "output_type": "stream",
     "text": [
      "Some weights of BertForTokenClassification were not initialized from the model checkpoint at bert-base-cased and are newly initialized: ['classifier.bias', 'classifier.weight']\n",
      "You should probably TRAIN this model on a down-stream task to be able to use it for predictions and inference.\n",
      "C:\\Users\\s.diedhiou\\AppData\\Local\\anaconda3\\envs\\my_conda_env_with_py311\\Lib\\site-packages\\transformers\\training_args.py:1568: FutureWarning: `evaluation_strategy` is deprecated and will be removed in version 4.46 of 🤗 Transformers. Use `eval_strategy` instead\n",
      "  warnings.warn(\n"
     ]
    }
   ],
   "source": [
    "from transformers import AutoModelForTokenClassification, TrainingArguments, Trainer\n",
    "\n",
    "# Load a pre-trained model for token classification\n",
    "model = AutoModelForTokenClassification.from_pretrained('bert-base-cased', num_labels=num_labels)\n",
    "\n",
    "# Define training arguments\n",
    "training_args = TrainingArguments(\n",
    "    output_dir='./results',\n",
    "    evaluation_strategy='epoch',\n",
    "    learning_rate=2e-5,\n",
    "    per_device_train_batch_size=16,\n",
    "    per_device_eval_batch_size=16,\n",
    "    num_train_epochs=3,\n",
    "    weight_decay=0.01,\n",
    "    logging_dir='./logs',\n",
    "    logging_steps=10,\n",
    ")\n",
    "\n",
    "# Define data collator\n",
    "from transformers import DataCollatorForTokenClassification\n",
    "\n",
    "data_collator = DataCollatorForTokenClassification(tokenizer)"
   ]
  },
  {
   "cell_type": "code",
   "execution_count": 19,
   "id": "333e05d7-1298-438c-ba18-d568308b0512",
   "metadata": {},
   "outputs": [],
   "source": [
    "# Model Training"
   ]
  },
  {
   "cell_type": "code",
   "execution_count": 20,
   "id": "0e8f3220-3755-48a5-ba00-806f3d7d6419",
   "metadata": {},
   "outputs": [],
   "source": [
    "#pip install evaluate"
   ]
  },
  {
   "cell_type": "code",
   "execution_count": 21,
   "id": "39ae3031-23c0-498e-93fc-bc5944420140",
   "metadata": {},
   "outputs": [],
   "source": [
    "#%pip install comet_ml"
   ]
  },
  {
   "cell_type": "code",
   "execution_count": 12,
   "id": "a00db48c-e1c9-4ac5-a969-8d203ecb7270",
   "metadata": {},
   "outputs": [],
   "source": [
    "#pip install evaluate\n",
    "import evaluate"
   ]
  },
  {
   "cell_type": "code",
   "execution_count": 23,
   "id": "8bb3afe8-70d9-4eeb-b965-0661c5cd9547",
   "metadata": {},
   "outputs": [],
   "source": [
    "#import comet_ml\n",
    "#import tensorflow as tf\n",
    "#from keras.models import Sequential"
   ]
  },
  {
   "cell_type": "code",
   "execution_count": 24,
   "id": "b635dfcf-1d52-42fe-96a7-0d47555e0ad2",
   "metadata": {},
   "outputs": [],
   "source": [
    "#pip install wandb"
   ]
  },
  {
   "cell_type": "code",
   "execution_count": 29,
   "id": "84e21e52-21fa-48bf-9968-7541f23f734b",
   "metadata": {},
   "outputs": [],
   "source": [
    "#!pip install --upgrade wandb"
   ]
  },
  {
   "cell_type": "code",
   "execution_count": 13,
   "id": "2a7a5d9b-4462-4626-902d-cf7128147803",
   "metadata": {},
   "outputs": [
    {
     "name": "stdout",
     "output_type": "stream",
     "text": [
      "0.18.7\n"
     ]
    }
   ],
   "source": [
    "import wandb\n",
    "print(wandb.__version__)"
   ]
  },
  {
   "cell_type": "code",
   "execution_count": 14,
   "id": "f22ac29b-3166-40db-a8a8-6a62a9f63e74",
   "metadata": {},
   "outputs": [
    {
     "name": "stderr",
     "output_type": "stream",
     "text": [
      "C:\\Users\\s.diedhiou\\AppData\\Local\\Temp\\ipykernel_17960\\3390373823.py:29: FutureWarning: `tokenizer` is deprecated and will be removed in version 5.0.0 for `Trainer.__init__`. Use `processing_class` instead.\n",
      "  trainer = Trainer(\n",
      "\u001b[34m\u001b[1mwandb\u001b[0m: \u001b[33mWARNING\u001b[0m The `run_name` is currently set to the same value as `TrainingArguments.output_dir`. If this was not intended, please specify a different run name by setting the `TrainingArguments.run_name` parameter.\n",
      "wandb: Using wandb-core as the SDK backend.  Please refer to https://wandb.me/wandb-core for more information.\n",
      "wandb: Currently logged in as: salioudiedhiou (salioudiedhiou-sd-consolidated-accuracy). Use `wandb login --relogin` to force relogin\n"
     ]
    },
    {
     "data": {
      "text/html": [
       "Tracking run with wandb version 0.18.7"
      ],
      "text/plain": [
       "<IPython.core.display.HTML object>"
      ]
     },
     "metadata": {},
     "output_type": "display_data"
    },
    {
     "data": {
      "text/html": [
       "Run data is saved locally in <code>C:\\Users\\s.diedhiou\\OneDrive - ITINOVA\\Bureau\\Formation Data Scientist\\Junior Data Scientist\\Mes projets\\wandb\\run-20241119_091429-yyx70he8</code>"
      ],
      "text/plain": [
       "<IPython.core.display.HTML object>"
      ]
     },
     "metadata": {},
     "output_type": "display_data"
    },
    {
     "data": {
      "text/html": [
       "Syncing run <strong><a href='https://wandb.ai/salioudiedhiou-sd-consolidated-accuracy/huggingface/runs/yyx70he8' target=\"_blank\">./results</a></strong> to <a href='https://wandb.ai/salioudiedhiou-sd-consolidated-accuracy/huggingface' target=\"_blank\">Weights & Biases</a> (<a href='https://wandb.me/developer-guide' target=\"_blank\">docs</a>)<br/>"
      ],
      "text/plain": [
       "<IPython.core.display.HTML object>"
      ]
     },
     "metadata": {},
     "output_type": "display_data"
    },
    {
     "data": {
      "text/html": [
       " View project at <a href='https://wandb.ai/salioudiedhiou-sd-consolidated-accuracy/huggingface' target=\"_blank\">https://wandb.ai/salioudiedhiou-sd-consolidated-accuracy/huggingface</a>"
      ],
      "text/plain": [
       "<IPython.core.display.HTML object>"
      ]
     },
     "metadata": {},
     "output_type": "display_data"
    },
    {
     "data": {
      "text/html": [
       " View run at <a href='https://wandb.ai/salioudiedhiou-sd-consolidated-accuracy/huggingface/runs/yyx70he8' target=\"_blank\">https://wandb.ai/salioudiedhiou-sd-consolidated-accuracy/huggingface/runs/yyx70he8</a>"
      ],
      "text/plain": [
       "<IPython.core.display.HTML object>"
      ]
     },
     "metadata": {},
     "output_type": "display_data"
    },
    {
     "data": {
      "text/html": [
       "\n",
       "    <div>\n",
       "      \n",
       "      <progress value='1020' max='1020' style='width:300px; height:20px; vertical-align: middle;'></progress>\n",
       "      [1020/1020 4:02:13, Epoch 3/3]\n",
       "    </div>\n",
       "    <table border=\"1\" class=\"dataframe\">\n",
       "  <thead>\n",
       " <tr style=\"text-align: left;\">\n",
       "      <th>Epoch</th>\n",
       "      <th>Training Loss</th>\n",
       "      <th>Validation Loss</th>\n",
       "      <th>Precision</th>\n",
       "      <th>Recall</th>\n",
       "      <th>F1</th>\n",
       "      <th>Accuracy</th>\n",
       "    </tr>\n",
       "  </thead>\n",
       "  <tbody>\n",
       "    <tr>\n",
       "      <td>1</td>\n",
       "      <td>0.072500</td>\n",
       "      <td>0.071608</td>\n",
       "      <td>0.784131</td>\n",
       "      <td>0.819512</td>\n",
       "      <td>0.801431</td>\n",
       "      <td>0.977032</td>\n",
       "    </tr>\n",
       "    <tr>\n",
       "      <td>2</td>\n",
       "      <td>0.036800</td>\n",
       "      <td>0.072481</td>\n",
       "      <td>0.804299</td>\n",
       "      <td>0.867073</td>\n",
       "      <td>0.834507</td>\n",
       "      <td>0.979584</td>\n",
       "    </tr>\n",
       "    <tr>\n",
       "      <td>3</td>\n",
       "      <td>0.022800</td>\n",
       "      <td>0.081544</td>\n",
       "      <td>0.819113</td>\n",
       "      <td>0.878049</td>\n",
       "      <td>0.847557</td>\n",
       "      <td>0.979958</td>\n",
       "    </tr>\n",
       "  </tbody>\n",
       "</table><p>"
      ],
      "text/plain": [
       "<IPython.core.display.HTML object>"
      ]
     },
     "metadata": {},
     "output_type": "display_data"
    },
    {
     "data": {
      "text/plain": [
       "TrainOutput(global_step=1020, training_loss=0.07282484641992579, metrics={'train_runtime': 14554.4853, 'train_samples_per_second': 1.12, 'train_steps_per_second': 0.07, 'total_flos': 1064728585569024.0, 'train_loss': 0.07282484641992579, 'epoch': 3.0})"
      ]
     },
     "execution_count": 14,
     "metadata": {},
     "output_type": "execute_result"
    }
   ],
   "source": [
    "import numpy as np\n",
    "#from datasets import load_metric\n",
    "\n",
    "# Load evaluation metric\n",
    "metric = evaluate.load('seqeval')\n",
    "\n",
    "# Define compute_metrics function\n",
    "def compute_metrics(p):\n",
    "    predictions, labels = p\n",
    "    predictions = np.argmax(predictions, axis=2)\n",
    "\n",
    "    true_labels = [\n",
    "        [label_list[l] for l in label if l != -100]\n",
    "        for label in labels\n",
    "    ]\n",
    "    true_predictions = [\n",
    "        [label_list[p] for (p, l) in zip(prediction, label) if l != -100]\n",
    "        for prediction, label in zip(predictions, labels)\n",
    "    ]\n",
    "    results = metric.compute(predictions=true_predictions, references=true_labels)\n",
    "    return {\n",
    "        'precision': results['overall_precision'],\n",
    "        'recall': results['overall_recall'],\n",
    "        'f1': results['overall_f1'],\n",
    "        'accuracy': results['overall_accuracy'],\n",
    "    }\n",
    "\n",
    "# Initialize the Trainer\n",
    "trainer = Trainer(\n",
    "    model=model,\n",
    "    args=training_args,\n",
    "    train_dataset=tokenized_datasets['train'],\n",
    "    eval_dataset=tokenized_datasets['validation'],\n",
    "    tokenizer=tokenizer,\n",
    "    data_collator=data_collator,\n",
    "    compute_metrics=compute_metrics,\n",
    ")\n",
    "\n",
    "# Train the model\n",
    "trainer.train()"
   ]
  },
  {
   "cell_type": "code",
   "execution_count": null,
   "id": "b0269e84-d294-445e-b585-aa751febe7d7",
   "metadata": {},
   "outputs": [],
   "source": [
    "# Model Evaluation"
   ]
  },
  {
   "cell_type": "code",
   "execution_count": 15,
   "id": "47bd4994-b9d6-4901-a818-956a5a64d170",
   "metadata": {},
   "outputs": [
    {
     "data": {
      "text/html": [],
      "text/plain": [
       "<IPython.core.display.HTML object>"
      ]
     },
     "metadata": {},
     "output_type": "display_data"
    },
    {
     "name": "stdout",
     "output_type": "stream",
     "text": [
      "{'eval_loss': 0.09352871030569077, 'eval_precision': 0.8453478625314333, 'eval_recall': 0.8862038664323374, 'eval_f1': 0.8652938652938653, 'eval_accuracy': 0.9751043620303709, 'eval_runtime': 137.2193, 'eval_samples_per_second': 6.858, 'eval_steps_per_second': 0.43, 'epoch': 3.0}\n"
     ]
    }
   ],
   "source": [
    "# Evaluate on the test set\n",
    "test_results = trainer.evaluate(tokenized_datasets['test'])\n",
    "\n",
    "# Print evaluation results\n",
    "print(test_results)"
   ]
  },
  {
   "cell_type": "code",
   "execution_count": null,
   "id": "7eda8380-2e95-4306-a39c-88dc5deca5b2",
   "metadata": {},
   "outputs": [],
   "source": [
    "true_labels = train_dataset.features['ner_tags'].feature.names"
   ]
  },
  {
   "cell_type": "code",
   "execution_count": 16,
   "id": "9475bbdb-d352-49ff-93a8-550ed83bab63",
   "metadata": {},
   "outputs": [
    {
     "name": "stdout",
     "output_type": "stream",
     "text": [
      "Token: in, True Label: B-Disease, Predicted Label: O\n",
      "Token: ATM, True Label: B-Disease, Predicted Label: O\n",
      "Token: mutations, True Label: I-Disease, Predicted Label: B-Disease\n",
      "Token: PLL, True Label: B-Disease, Predicted Label: O\n",
      "Token: samples, True Label: I-Disease, Predicted Label: O\n",
      "Token: had, True Label: I-Disease, Predicted Label: O\n",
      "Token: a, True Label: I-Disease, Predicted Label: O\n",
      "Token: establishes, True Label: O, Predicted Label: B-Disease\n",
      "Token: somatic, True Label: O, Predicted Label: B-Disease\n",
      "Token: this, True Label: B-Disease, Predicted Label: I-Disease\n",
      "Token: a, True Label: B-Disease, Predicted Label: O\n",
      "Token: tumour, True Label: B-Disease, Predicted Label: O\n",
      "Token: unilateral, True Label: O, Predicted Label: B-Disease\n",
      "Token: retinoblastoma, True Label: B-Disease, Predicted Label: I-Disease\n",
      "Token: isolated, True Label: O, Predicted Label: B-Disease\n",
      "Token: unilateral, True Label: B-Disease, Predicted Label: I-Disease\n",
      "Token: retinoblastoma, True Label: B-Disease, Predicted Label: I-Disease\n",
      "Token: ,, True Label: B-Disease, Predicted Label: I-Disease\n",
      "Token: unilateral, True Label: O, Predicted Label: B-Disease\n",
      "Token: ., True Label: O, Predicted Label: B-Disease\n",
      "Token: detected, True Label: O, Predicted Label: B-Disease\n",
      "Token: and, True Label: O, Predicted Label: B-Disease\n",
      "Token: the, True Label: O, Predicted Label: B-Disease\n",
      "Token: other, True Label: O, Predicted Label: B-Disease\n",
      "Token: later, True Label: B-Disease, Predicted Label: I-Disease\n",
      "Token: ,, True Label: O, Predicted Label: I-Disease\n",
      "Token: but, True Label: O, Predicted Label: I-Disease\n",
      "Token: C1, True Label: O, Predicted Label: I-Disease\n",
      "Token: C5, True Label: O, Predicted Label: I-Disease\n",
      "Token: membranous, True Label: O, Predicted Label: B-Disease\n",
      "Token: glomerulonephritis, True Label: O, Predicted Label: B-Disease\n",
      "Token: ,, True Label: O, Predicted Label: B-Disease\n",
      "Token: vasculitis, True Label: O, Predicted Label: B-Disease\n",
      "Token: ,, True Label: B-Disease, Predicted Label: I-Disease\n",
      "Token: and, True Label: B-Disease, Predicted Label: I-Disease\n",
      "Token: arthritis, True Label: B-Disease, Predicted Label: I-Disease\n",
      "Token: in, True Label: B-Disease, Predicted Label: I-Disease\n",
      "Token: an, True Label: B-Disease, Predicted Label: I-Disease\n",
      "Token: individual, True Label: B-Disease, Predicted Label: I-Disease\n",
      "Token: lacking, True Label: B-Disease, Predicted Label: I-Disease\n",
      "Token: infection, True Label: O, Predicted Label: B-Disease\n",
      "Token: ., True Label: O, Predicted Label: B-Disease\n",
      "Token: ., True Label: O, Predicted Label: B-Disease\n",
      "Token: concordant, True Label: O, Predicted Label: B-Disease\n",
      "Token: DZ, True Label: O, Predicted Label: B-Disease\n",
      "Token: -, True Label: O, Predicted Label: B-Disease\n",
      "Token: twin, True Label: O, Predicted Label: B-Disease\n",
      "Token: produce, True Label: O, Predicted Label: B-Disease\n",
      "Token: the, True Label: O, Predicted Label: B-Disease\n",
      "Token: hormone, True Label: O, Predicted Label: B-Disease\n",
      "Token: arginine, True Label: O, Predicted Label: I-Disease\n",
      "Token: vasopressin, True Label: O, Predicted Label: I-Disease\n",
      "Token: (, True Label: O, Predicted Label: I-Disease\n",
      "Token: AVP, True Label: O, Predicted Label: I-Disease\n",
      "Token: ), True Label: O, Predicted Label: I-Disease\n",
      "Token: ., True Label: O, Predicted Label: I-Disease\n",
      "Token: spot, True Label: O, Predicted Label: B-Disease\n",
      "Token: ., True Label: O, Predicted Label: B-Disease\n",
      "Token: dominantly, True Label: B-Disease, Predicted Label: O\n",
      "Token: inherited, True Label: B-Disease, Predicted Label: O\n",
      "Token: neurodegeneration, True Label: I-Disease, Predicted Label: B-Disease\n",
      "Token: ,, True Label: I-Disease, Predicted Label: B-Disease\n",
      "Token: respiratory, True Label: O, Predicted Label: B-Disease\n",
      "Token: and, True Label: O, Predicted Label: I-Disease\n",
      "Token: feeding, True Label: O, Predicted Label: I-Disease\n",
      "Token: difficulties, True Label: O, Predicted Label: I-Disease\n",
      "Token: is, True Label: B-Disease, Predicted Label: O\n",
      "Token: the, True Label: O, Predicted Label: B-Disease\n",
      "Token: /, True Label: O, Predicted Label: B-Disease\n",
      "Token: DPC4, True Label: O, Predicted Label: B-Disease\n",
      "Token: a, True Label: O, Predicted Label: I-Disease\n",
      "Token: key, True Label: B-Disease, Predicted Label: I-Disease\n",
      "Token: Smad4, True Label: O, Predicted Label: I-Disease\n",
      "Token: deficient, True Label: O, Predicted Label: B-Disease\n",
      "Token: embryos, True Label: O, Predicted Label: B-Disease\n",
      "Token: results, True Label: O, Predicted Label: B-Disease\n",
      "Token: from, True Label: O, Predicted Label: I-Disease\n",
      "Token: reduced, True Label: O, Predicted Label: I-Disease\n",
      "Token: cell, True Label: O, Predicted Label: I-Disease\n",
      "Token: increased, True Label: O, Predicted Label: I-Disease\n",
      "Token: and, True Label: B-Disease, Predicted Label: O\n",
      "Token: non, True Label: B-Disease, Predicted Label: O\n",
      "Token: -, True Label: B-Disease, Predicted Label: O\n",
      "Token: cell, True Label: I-Disease, Predicted Label: O\n",
      "Token: gene, True Label: O, Predicted Label: I-Disease\n",
      "Token: are, True Label: B-Disease, Predicted Label: O\n",
      "Token: tumorigenic, True Label: B-Disease, Predicted Label: O\n",
      "Token: cells, True Label: O, Predicted Label: B-Disease\n",
      "Token: to, True Label: O, Predicted Label: B-Disease\n",
      "Token: exit, True Label: B-Disease, Predicted Label: O\n",
      "Token: the, True Label: B-Disease, Predicted Label: O\n",
      "Token: molecular, True Label: O, Predicted Label: I-Disease\n",
      "Token: evidence, True Label: B-Disease, Predicted Label: I-Disease\n",
      "Token: for, True Label: B-Disease, Predicted Label: I-Disease\n",
      "Token: a, True Label: O, Predicted Label: B-Disease\n",
      "Token: novel, True Label: O, Predicted Label: B-Disease\n",
      "Token: missense, True Label: O, Predicted Label: B-Disease\n",
      "Token: substitution, True Label: B-Disease, Predicted Label: I-Disease\n",
      "Token: at, True Label: B-Disease, Predicted Label: I-Disease\n",
      "Token: a, True Label: B-Disease, Predicted Label: I-Disease\n",
      "Token: atrophic, True Label: O, Predicted Label: B-Disease\n",
      "Token: benign, True Label: B-Disease, Predicted Label: I-Disease\n",
      "Token: epidermolysis, True Label: B-Disease, Predicted Label: I-Disease\n",
      "Token: bullosa, True Label: B-Disease, Predicted Label: I-Disease\n",
      "Token: ., True Label: O, Predicted Label: I-Disease\n",
      "Token: and, True Label: O, Predicted Label: B-Disease\n",
      "Token: propagation, True Label: O, Predicted Label: B-Disease\n",
      "Token: atrophic, True Label: O, Predicted Label: B-Disease\n",
      "Token: benign, True Label: B-Disease, Predicted Label: I-Disease\n",
      "Token: most, True Label: I-Disease, Predicted Label: O\n",
      "Token: generalized, True Label: O, Predicted Label: B-Disease\n",
      "Token: Hp2, True Label: B-Disease, Predicted Label: O\n",
      "Token: -, True Label: B-Disease, Predicted Label: O\n",
      "Token: Hp1, True Label: B-Disease, Predicted Label: O\n",
      "Token: ., True Label: B-Disease, Predicted Label: O\n",
      "Token: proliferation, True Label: O, Predicted Label: B-Disease\n",
      "Token: ,, True Label: O, Predicted Label: B-Disease\n",
      "Token: or, True Label: O, Predicted Label: B-Disease\n",
      "Token: Hodgkin, True Label: O, Predicted Label: B-Disease\n",
      "Token: ,, True Label: B-Disease, Predicted Label: O\n",
      "Token: prostate, True Label: B-Disease, Predicted Label: O\n",
      "Token: and, True Label: I-Disease, Predicted Label: B-Disease\n",
      "Token: ,, True Label: O, Predicted Label: B-Disease\n",
      "Token: malignant, True Label: B-Disease, Predicted Label: I-Disease\n",
      "Token: and, True Label: B-Disease, Predicted Label: I-Disease\n",
      "Token: ), True Label: I-Disease, Predicted Label: O\n",
      "Token: families, True Label: B-Disease, Predicted Label: O\n",
      "Token: was, True Label: B-Disease, Predicted Label: O\n",
      "Token: this, True Label: B-Disease, Predicted Label: O\n",
      "Token: involvement, True Label: O, Predicted Label: B-Disease\n",
      "Token: (, True Label: O, Predicted Label: I-Disease\n",
      "Token: female, True Label: O, Predicted Label: B-Disease\n",
      "Token: breast, True Label: B-Disease, Predicted Label: I-Disease\n",
      "Token: I, True Label: O, Predicted Label: B-Disease\n",
      "Token: ., True Label: O, Predicted Label: B-Disease\n",
      "Token: I, True Label: O, Predicted Label: B-Disease\n",
      "Token: spinocerebellar, True Label: O, Predicted Label: B-Disease\n",
      "Token: ataxias, True Label: O, Predicted Label: B-Disease\n",
      "Token: 1, True Label: O, Predicted Label: I-Disease\n",
      "Token: and, True Label: B-Disease, Predicted Label: I-Disease\n",
      "Token: 2, True Label: B-Disease, Predicted Label: I-Disease\n",
      "Token: (, True Label: B-Disease, Predicted Label: I-Disease\n",
      "Token: SCA1, True Label: B-Disease, Predicted Label: I-Disease\n",
      "Token: SCA2, True Label: B-Disease, Predicted Label: I-Disease\n",
      "Token: ,, True Label: B-Disease, Predicted Label: I-Disease\n",
      "Token: n, True Label: B-Disease, Predicted Label: I-Disease\n",
      "Token: =, True Label: B-Disease, Predicted Label: I-Disease\n",
      "Token: 10, True Label: B-Disease, Predicted Label: I-Disease\n",
      "Token: (, True Label: B-Disease, Predicted Label: O\n",
      "Token: MJD, True Label: B-Disease, Predicted Label: O\n",
      "Token: ), True Label: B-Disease, Predicted Label: O\n",
      "Token: ., True Label: B-Disease, Predicted Label: O\n",
      "Token: SCA1, True Label: B-Disease, Predicted Label: O\n",
      "Token: ,, True Label: B-Disease, Predicted Label: O\n",
      "Token: saccade, True Label: B-Disease, Predicted Label: O\n",
      "Token: SCA2, True Label: B-Disease, Predicted Label: O\n",
      "Token: ,, True Label: B-Disease, Predicted Label: O\n",
      "Token: saccade, True Label: B-Disease, Predicted Label: O\n",
      "Token: gaze, True Label: B-Disease, Predicted Label: O\n",
      "Token: was, True Label: O, Predicted Label: B-Disease\n",
      "Token: markedly, True Label: O, Predicted Label: B-Disease\n",
      "Token: decreased, True Label: O, Predicted Label: B-Disease\n",
      "Token: ., True Label: O, Predicted Label: I-Disease\n",
      "Token: and, True Label: B-Disease, Predicted Label: O\n",
      "Token: 93, True Label: B-Disease, Predicted Label: O\n",
      "Token: %, True Label: B-Disease, Predicted Label: O\n",
      "Token: to, True Label: B-Disease, Predicted Label: O\n",
      "Token: their, True Label: B-Disease, Predicted Label: O\n",
      "Token: genetically, True Label: B-Disease, Predicted Label: O\n",
      "Token: rhythm, True Label: O, Predicted Label: B-Disease\n",
      "Token: disturbance, True Label: O, Predicted Label: I-Disease\n",
      "Token: ,, True Label: O, Predicted Label: I-Disease\n",
      "Token: ,, True Label: O, Predicted Label: B-Disease\n",
      "Token: and, True Label: B-Disease, Predicted Label: I-Disease\n",
      "Token: analysis, True Label: B-Disease, Predicted Label: I-Disease\n",
      "Token: of, True Label: B-Disease, Predicted Label: I-Disease\n",
      "Token: isolated, True Label: B-Disease, Predicted Label: O\n",
      "Token: DMS, True Label: I-Disease, Predicted Label: B-Disease\n",
      "Token: (, True Label: I-Disease, Predicted Label: B-Disease\n",
      "Token: ), True Label: B-Disease, Predicted Label: O\n",
      "Token: neurophysin, True Label: O, Predicted Label: B-Disease\n",
      "Token: II, True Label: O, Predicted Label: I-Disease\n",
      "Token: (, True Label: O, Predicted Label: I-Disease\n",
      "Token: AVP, True Label: O, Predicted Label: I-Disease\n",
      "Token: -, True Label: O, Predicted Label: I-Disease\n",
      "Token: NPII, True Label: O, Predicted Label: I-Disease\n",
      "Token: ), True Label: O, Predicted Label: I-Disease\n",
      "Token: gene, True Label: O, Predicted Label: I-Disease\n",
      "Token: on, True Label: O, Predicted Label: I-Disease\n",
      "Token: chromosome, True Label: O, Predicted Label: I-Disease\n",
      "Token: 20p13, True Label: O, Predicted Label: I-Disease\n",
      "Token: ., True Label: O, Predicted Label: I-Disease\n",
      "Token: 15, True Label: O, Predicted Label: B-Disease\n",
      "Token: ,, True Label: B-Disease, Predicted Label: I-Disease\n",
      "Token: by, True Label: B-Disease, Predicted Label: I-Disease\n",
      "Token: imprinting, True Label: B-Disease, Predicted Label: I-Disease\n",
      "Token: defects, True Label: B-Disease, Predicted Label: I-Disease\n",
      "Token: mutations, True Label: O, Predicted Label: I-Disease\n",
      "Token: UBE3A, True Label: O, Predicted Label: I-Disease\n",
      "Token: gene, True Label: O, Predicted Label: I-Disease\n",
      "Token: attenuated, True Label: O, Predicted Label: B-Disease\n",
      "Token: rectal, True Label: O, Predicted Label: B-Disease\n",
      "Token: polyp, True Label: O, Predicted Label: I-Disease\n",
      "Token: sparing, True Label: O, Predicted Label: I-Disease\n",
      "Token: was, True Label: B-Disease, Predicted Label: I-Disease\n",
      "Token: observed, True Label: B-Disease, Predicted Label: I-Disease\n",
      "Token: ., True Label: B-Disease, Predicted Label: I-Disease\n",
      "Token: Denys, True Label: B-Disease, Predicted Label: O\n",
      "Token: -, True Label: I-Disease, Predicted Label: O\n",
      "Token: Drash, True Label: I-Disease, Predicted Label: O\n",
      "Token: syndrome, True Label: I-Disease, Predicted Label: O\n",
      "Token: ,, True Label: I-Disease, Predicted Label: O\n",
      "Token: fail, True Label: I-Disease, Predicted Label: O\n",
      "Token: to, True Label: I-Disease, Predicted Label: O\n",
      "Token: synergize, True Label: I-Disease, Predicted Label: O\n",
      "Token: imprinted, True Label: O, Predicted Label: B-Disease\n",
      "Token: genes, True Label: O, Predicted Label: B-Disease\n",
      "Token: -, True Label: O, Predicted Label: B-Disease\n",
      "Token: T, True Label: O, Predicted Label: I-Disease\n",
      "Token: ,, True Label: O, Predicted Label: I-Disease\n",
      "Token: -, True Label: O, Predicted Label: B-Disease\n",
      "Token: causing, True Label: O, Predicted Label: B-Disease\n",
      "Token: 4, True Label: O, Predicted Label: I-Disease\n",
      "Token: deficiency, True Label: I-Disease, Predicted Label: B-Disease\n",
      "Token: was, True Label: O, Predicted Label: B-Disease\n",
      "Token: mapped, True Label: O, Predicted Label: B-Disease\n",
      "Token: in, True Label: O, Predicted Label: B-Disease\n",
      "Token: patients, True Label: O, Predicted Label: B-Disease\n",
      "Token: XLDCM, True Label: O, Predicted Label: B-Disease\n",
      "Token: patients, True Label: O, Predicted Label: B-Disease\n",
      "Token: for, True Label: O, Predicted Label: B-Disease\n",
      "Token: some, True Label: O, Predicted Label: B-Disease\n",
      "Token: onset, True Label: O, Predicted Label: I-Disease\n",
      "Token: obesity, True Label: O, Predicted Label: I-Disease\n",
      "Token: ,, True Label: B-Disease, Predicted Label: I-Disease\n",
      "Token: adrenal, True Label: B-Disease, Predicted Label: I-Disease\n",
      "Token: mutations, True Label: O, Predicted Label: B-Disease\n",
      "Token: in, True Label: O, Predicted Label: I-Disease\n",
      "Token: humans, True Label: O, Predicted Label: I-Disease\n",
      "Token: ., True Label: O, Predicted Label: I-Disease\n",
      "Token: isolated, True Label: O, Predicted Label: B-Disease\n",
      "Token: been, True Label: O, Predicted Label: B-Disease\n",
      "Token: described, True Label: O, Predicted Label: B-Disease\n",
      "Token: so, True Label: O, Predicted Label: B-Disease\n",
      "Token: far, True Label: O, Predicted Label: I-Disease\n",
      "Token: POMC, True Label: O, Predicted Label: B-Disease\n",
      "Token: with, True Label: O, Predicted Label: B-Disease\n",
      "Token: human, True Label: O, Predicted Label: B-Disease\n",
      "Token: the, True Label: O, Predicted Label: B-Disease\n",
      "Token: phenotype, True Label: O, Predicted Label: I-Disease\n",
      "Token: associated, True Label: O, Predicted Label: I-Disease\n",
      "Token: pigmentation, True Label: O, Predicted Label: B-Disease\n",
      "Token: and, True Label: O, Predicted Label: B-Disease\n",
      "Token: ACTH, True Label: O, Predicted Label: B-Disease\n",
      "Token: ., True Label: O, Predicted Label: B-Disease\n",
      "Token: POMC, True Label: O, Predicted Label: B-Disease\n",
      "Token: gene, True Label: O, Predicted Label: B-Disease\n",
      "Token: and, True Label: O, Predicted Label: B-Disease\n",
      "Token: disorder, True Label: B-Disease, Predicted Label: O\n",
      "Token: resulting, True Label: B-Disease, Predicted Label: O\n",
      "Token: in, True Label: I-Disease, Predicted Label: B-Disease\n",
      "Token: early, True Label: I-Disease, Predicted Label: B-Disease\n",
      "Token: -, True Label: I-Disease, Predicted Label: B-Disease\n",
      "Token: by, True Label: I-Disease, Predicted Label: B-Disease\n",
      "Token: mutations, True Label: I-Disease, Predicted Label: B-Disease\n",
      "Token: in, True Label: I-Disease, Predicted Label: B-Disease\n",
      "Token: the, True Label: I-Disease, Predicted Label: B-Disease\n",
      "Token: gene, True Label: I-Disease, Predicted Label: B-Disease\n",
      "Token: encoding, True Label: I-Disease, Predicted Label: B-Disease\n",
      "Token: phenylalanine, True Label: I-Disease, Predicted Label: B-Disease\n",
      "Token: responsible, True Label: O, Predicted Label: B-Disease\n",
      "Token: for, True Label: O, Predicted Label: B-Disease\n",
      "Token: responsible, True Label: I-Disease, Predicted Label: O\n",
      "Token: for, True Label: I-Disease, Predicted Label: B-Disease\n",
      "Token: an, True Label: I-Disease, Predicted Label: B-Disease\n",
      "Token: estimated, True Label: I-Disease, Predicted Label: O\n",
      "Token: 30, True Label: I-Disease, Predicted Label: O\n",
      "Token: 3, True Label: O, Predicted Label: B-Disease\n",
      "Token: p, True Label: O, Predicted Label: B-Disease\n",
      "Token: ., True Label: O, Predicted Label: B-Disease\n",
      "Token: 15, True Label: B-Disease, Predicted Label: O\n",
      "Token: and, True Label: I-Disease, Predicted Label: B-Disease\n",
      "Token: PWS, True Label: I-Disease, Predicted Label: B-Disease\n",
      "Token: we, True Label: O, Predicted Label: I-Disease\n",
      "Token: called, True Label: B-Disease, Predicted Label: I-Disease\n",
      "Token: or, True Label: O, Predicted Label: B-Disease\n",
      "Token: ), True Label: O, Predicted Label: B-Disease\n",
      "Token: with, True Label: O, Predicted Label: I-Disease\n",
      "Token: a, True Label: O, Predicted Label: I-Disease\n",
      "Token: distinct, True Label: O, Predicted Label: I-Disease\n",
      "Token: hemostasis, True Label: O, Predicted Label: B-Disease\n",
      "Token: and, True Label: O, Predicted Label: I-Disease\n",
      "Token: thrombosis, True Label: O, Predicted Label: I-Disease\n",
      "Token: ., True Label: O, Predicted Label: I-Disease\n",
      "Token: defects, True Label: O, Predicted Label: B-Disease\n",
      "Token: hemostasis, True Label: O, Predicted Label: I-Disease\n",
      "Token: with, True Label: O, Predicted Label: I-Disease\n",
      "Token: a, True Label: O, Predicted Label: I-Disease\n",
      "Token: Defective, True Label: O, Predicted Label: B-Disease\n",
      "Token: thrombosis, True Label: O, Predicted Label: B-Disease\n",
      "Token: in, True Label: O, Predicted Label: B-Disease\n",
      "Token: mutant, True Label: B-Disease, Predicted Label: I-Disease\n",
      "Token: mice, True Label: B-Disease, Predicted Label: I-Disease\n",
      "Token: was, True Label: B-Disease, Predicted Label: I-Disease\n",
      "Token: also, True Label: B-Disease, Predicted Label: I-Disease\n",
      "Token: in, True Label: B-Disease, Predicted Label: O\n",
      "Token: the, True Label: B-Disease, Predicted Label: O\n",
      "Token: bilateral, True Label: I-Disease, Predicted Label: O\n",
      "Token: cerebellar, True Label: I-Disease, Predicted Label: O\n",
      "Token: hemispheres, True Label: I-Disease, Predicted Label: O\n",
      "Token: and, True Label: I-Disease, Predicted Label: O\n",
      "Token: brain, True Label: I-Disease, Predicted Label: O\n",
      "Token: stem, True Label: I-Disease, Predicted Label: O\n",
      "Token: ,, True Label: I-Disease, Predicted Label: O\n",
      "Token: but, True Label: I-Disease, Predicted Label: O\n",
      "Token: not, True Label: I-Disease, Predicted Label: O\n",
      "Token: cerebral, True Label: B-Disease, Predicted Label: O\n",
      "Token: with, True Label: I-Disease, Predicted Label: O\n",
      "Token: sparing, True Label: I-Disease, Predicted Label: O\n",
      "Token: ), True Label: O, Predicted Label: I-Disease\n",
      "Token: are, True Label: B-Disease, Predicted Label: O\n",
      "Token: defective, True Label: B-Disease, Predicted Label: O\n",
      "Token: in, True Label: I-Disease, Predicted Label: O\n",
      "Token: the, True Label: I-Disease, Predicted Label: O\n",
      "Token: ability, True Label: I-Disease, Predicted Label: O\n",
      "Token: to, True Label: I-Disease, Predicted Label: O\n",
      "Token: morbidity, True Label: O, Predicted Label: I-Disease\n",
      "Token: and, True Label: O, Predicted Label: I-Disease\n",
      "Token: mortality, True Label: O, Predicted Label: I-Disease\n",
      "Token: ., True Label: O, Predicted Label: I-Disease\n",
      "Token: VLCAD, True Label: O, Predicted Label: B-Disease\n",
      "Token: gene, True Label: O, Predicted Label: B-Disease\n",
      "Token: revealed, True Label: O, Predicted Label: B-Disease\n",
      "Token: ventricular, True Label: O, Predicted Label: B-Disease\n",
      "Token: hypertrophy, True Label: O, Predicted Label: B-Disease\n",
      "Token: resolved, True Label: O, Predicted Label: B-Disease\n",
      "Token: significantly, True Label: O, Predicted Label: I-Disease\n",
      "Token: over, True Label: O, Predicted Label: I-Disease\n",
      "Token: 1, True Label: O, Predicted Label: I-Disease\n",
      "Token: year, True Label: O, Predicted Label: I-Disease\n",
      "Token: variants, True Label: B-Disease, Predicted Label: O\n",
      "Token: Classical, True Label: O, Predicted Label: B-Disease\n",
      "Token: familial, True Label: B-Disease, Predicted Label: I-Disease\n",
      "Token: adenomatous, True Label: B-Disease, Predicted Label: I-Disease\n",
      "Token: polyposis, True Label: B-Disease, Predicted Label: I-Disease\n",
      "Token: multiple, True Label: O, Predicted Label: B-Disease\n",
      "Token: adenomas, True Label: B-Disease, Predicted Label: I-Disease\n",
      "Token: has, True Label: B-Disease, Predicted Label: I-Disease\n",
      "Token: no, True Label: B-Disease, Predicted Label: I-Disease\n",
      "Token: (, True Label: B-Disease, Predicted Label: O\n",
      "Token: I1307K, True Label: B-Disease, Predicted Label: O\n",
      "Token: multiple, True Label: O, Predicted Label: B-Disease\n",
      "Token: and, True Label: I-Disease, Predicted Label: O\n",
      "Token: analyzed, True Label: I-Disease, Predicted Label: B-Disease\n",
      "Token: codons, True Label: I-Disease, Predicted Label: O\n",
      "Token: 1263, True Label: I-Disease, Predicted Label: B-Disease\n",
      "Token: -, True Label: I-Disease, Predicted Label: B-Disease\n",
      "Token: 1377, True Label: I-Disease, Predicted Label: B-Disease\n",
      "Token: controls, True Label: O, Predicted Label: B-Disease\n",
      "Token: ;, True Label: O, Predicted Label: B-Disease\n",
      "Token: classical, True Label: I-Disease, Predicted Label: O\n",
      "Token: FAP, True Label: I-Disease, Predicted Label: B-Disease\n",
      "Token: ,, True Label: I-Disease, Predicted Label: B-Disease\n",
      "Token: and, True Label: I-Disease, Predicted Label: B-Disease\n",
      "Token: _, True Label: O, Predicted Label: B-Disease\n",
      "Token: RG364P16, True Label: O, Predicted Label: B-Disease\n",
      "Token: the, True Label: B-Disease, Predicted Label: O\n",
      "Token: Pendred, True Label: B-Disease, Predicted Label: O\n",
      "Token: ), True Label: O, Predicted Label: B-Disease\n",
      "Token: ., True Label: O, Predicted Label: I-Disease\n",
      "Token: APC, True Label: B-Disease, Predicted Label: O\n",
      "Token: is, True Label: B-Disease, Predicted Label: O\n",
      "Token: -, True Label: O, Predicted Label: B-Disease\n",
      "Token: suppressor, True Label: O, Predicted Label: B-Disease\n",
      "Token: MLD, True Label: O, Predicted Label: I-Disease\n",
      "Token: ), True Label: O, Predicted Label: I-Disease\n",
      "Token: ., True Label: O, Predicted Label: B-Disease\n",
      "Token: genes, True Label: O, Predicted Label: B-Disease\n",
      "Token: and, True Label: B-Disease, Predicted Label: I-Disease\n",
      "Token: breast, True Label: O, Predicted Label: B-Disease\n",
      "Token: and, True Label: O, Predicted Label: B-Disease\n",
      "Token: /, True Label: O, Predicted Label: B-Disease\n",
      "Token: ,, True Label: B-Disease, Predicted Label: O\n",
      "Token: but, True Label: I-Disease, Predicted Label: O\n",
      "Token: also, True Label: I-Disease, Predicted Label: O\n",
      "Token: partially, True Label: I-Disease, Predicted Label: O\n",
      "Token: leads, True Label: I-Disease, Predicted Label: O\n",
      "Token: to, True Label: I-Disease, Predicted Label: O\n",
      "Token: alternative, True Label: I-Disease, Predicted Label: O\n",
      "Token: pre, True Label: I-Disease, Predicted Label: O\n",
      "Token: -, True Label: I-Disease, Predicted Label: O\n",
      "Token: mRNA, True Label: I-Disease, Predicted Label: O\n",
      "Token: splicing, True Label: I-Disease, Predicted Label: O\n",
      "Token: of, True Label: I-Disease, Predicted Label: O\n",
      "Token: the, True Label: I-Disease, Predicted Label: O\n",
      "Token: in, True Label: O, Predicted Label: B-Disease\n",
      "Token: a, True Label: O, Predicted Label: B-Disease\n",
      "Token: Human, True Label: B-Disease, Predicted Label: O\n",
      "Token: complement, True Label: I-Disease, Predicted Label: B-Disease\n",
      "Token: in, True Label: I-Disease, Predicted Label: O\n",
      "Token: the, True Label: I-Disease, Predicted Label: O\n",
      "Token: human, True Label: I-Disease, Predicted Label: O\n",
      "Token: complement, True Label: I-Disease, Predicted Label: O\n",
      "Token: regulatory, True Label: I-Disease, Predicted Label: O\n",
      "Token: protein, True Label: I-Disease, Predicted Label: O\n",
      "Token: Factor, True Label: I-Disease, Predicted Label: O\n",
      "Token: H, True Label: I-Disease, Predicted Label: O\n",
      "Token: ., True Label: I-Disease, Predicted Label: B-Disease\n",
      "Token: idiopathic, True Label: O, Predicted Label: B-Disease\n",
      "Token: hemolytic, True Label: O, Predicted Label: B-Disease\n",
      "Token: uremic, True Label: O, Predicted Label: B-Disease\n",
      "Token: syndrome, True Label: B-Disease, Predicted Label: I-Disease\n",
      "Token: (, True Label: B-Disease, Predicted Label: I-Disease\n",
      "Token: HUS, True Label: B-Disease, Predicted Label: I-Disease\n",
      "Token: of, True Label: O, Predicted Label: B-Disease\n",
      "Token: a, True Label: O, Predicted Label: I-Disease\n",
      "Token: ), True Label: O, Predicted Label: I-Disease\n",
      "Token: has, True Label: O, Predicted Label: I-Disease\n",
      "Token: with, True Label: O, Predicted Label: B-Disease\n",
      "Token: characteristic, True Label: O, Predicted Label: B-Disease\n",
      "Token: C6, True Label: O, Predicted Label: B-Disease\n",
      "Token: /, True Label: O, Predicted Label: I-Disease\n",
      "Token: 1936delG, True Label: O, Predicted Label: B-Disease\n",
      "Token: defect, True Label: O, Predicted Label: B-Disease\n",
      "Token: was, True Label: O, Predicted Label: B-Disease\n",
      "Token: observed, True Label: O, Predicted Label: I-Disease\n",
      "Token: relatives, True Label: O, Predicted Label: B-Disease\n",
      "Token: at, True Label: O, Predicted Label: I-Disease\n",
      "Token: of, True Label: O, Predicted Label: I-Disease\n",
      "Token: (, True Label: O, Predicted Label: B-Disease\n",
      "Token: disease, True Label: B-Disease, Predicted Label: O\n",
      "Token: is, True Label: I-Disease, Predicted Label: O\n",
      "Token: familial, True Label: O, Predicted Label: B-Disease\n",
      "Token: colorectal, True Label: O, Predicted Label: B-Disease\n",
      "Token: cancer, True Label: O, Predicted Label: B-Disease\n",
      "Token: cases, True Label: B-Disease, Predicted Label: I-Disease\n",
      "Token: ,, True Label: B-Disease, Predicted Label: I-Disease\n",
      "Token: but, True Label: B-Disease, Predicted Label: I-Disease\n",
      "Token: P, True Label: O, Predicted Label: B-Disease\n",
      "Token: =, True Label: O, Predicted Label: B-Disease\n",
      "Token: 0, True Label: O, Predicted Label: B-Disease\n",
      "Token: ., True Label: B-Disease, Predicted Label: I-Disease\n",
      "Token: ,, True Label: O, Predicted Label: B-Disease\n",
      "Token: or, True Label: O, Predicted Label: B-Disease\n",
      "Token: inheritance, True Label: O, Predicted Label: B-Disease\n",
      "Token: late, True Label: O, Predicted Label: B-Disease\n",
      "Token: infantile, True Label: O, Predicted Label: I-Disease\n",
      "Token: metachromatic, True Label: O, Predicted Label: I-Disease\n",
      "Token: leukodystrophy, True Label: B-Disease, Predicted Label: I-Disease\n",
      "Token: (, True Label: B-Disease, Predicted Label: I-Disease\n",
      "Token: MLD, True Label: B-Disease, Predicted Label: I-Disease\n",
      "Token: increased, True Label: O, Predicted Label: B-Disease\n",
      "Token: not, True Label: O, Predicted Label: B-Disease\n",
      "Token: MLH1, True Label: O, Predicted Label: B-Disease\n",
      "Token: deficiency, True Label: O, Predicted Label: B-Disease\n",
      "Token: predisposes, True Label: O, Predicted Label: B-Disease\n",
      "Token: to, True Label: O, Predicted Label: I-Disease\n",
      "Token: leukemia, True Label: O, Predicted Label: B-Disease\n",
      "Token: and, True Label: O, Predicted Label: B-Disease\n",
      "Token: /, True Label: O, Predicted Label: B-Disease\n",
      "Token: or, True Label: O, Predicted Label: I-Disease\n",
      "Token: lymphoma, True Label: O, Predicted Label: I-Disease\n",
      "Token: in, True Label: B-Disease, Predicted Label: O\n",
      "Token: association, True Label: I-Disease, Predicted Label: O\n",
      "Token: in, True Label: O, Predicted Label: I-Disease\n",
      "Token: families, True Label: O, Predicted Label: I-Disease\n",
      "Token: Abnormal, True Label: O, Predicted Label: B-Disease\n",
      "Token: hepatic, True Label: O, Predicted Label: B-Disease\n",
      "Token: accumulation, True Label: O, Predicted Label: B-Disease\n",
      "Token: is, True Label: B-Disease, Predicted Label: I-Disease\n",
      "Token: recognized, True Label: B-Disease, Predicted Label: I-Disease\n",
      "Token: as, True Label: B-Disease, Predicted Label: I-Disease\n",
      "Token: childhood, True Label: O, Predicted Label: I-Disease\n",
      "Token: cirrhosis, True Label: B-Disease, Predicted Label: O\n",
      "Token: ,, True Label: I-Disease, Predicted Label: O\n",
      "Token: indicating, True Label: I-Disease, Predicted Label: O\n",
      "Token: autosomal, True Label: O, Predicted Label: B-Disease\n",
      "Token: recessive, True Label: O, Predicted Label: B-Disease\n",
      "Token: copper, True Label: O, Predicted Label: B-Disease\n",
      "Token: toxicosis, True Label: O, Predicted Label: I-Disease\n",
      "Token: (, True Label: O, Predicted Label: I-Disease\n",
      "Token: CT, True Label: O, Predicted Label: I-Disease\n",
      "Token: ), True Label: B-Disease, Predicted Label: I-Disease\n",
      "Token: co, True Label: B-Disease, Predicted Label: O\n",
      "Token: BAC, True Label: O, Predicted Label: B-Disease\n",
      "Token: clones, True Label: O, Predicted Label: B-Disease\n",
      "Token: denaturing, True Label: O, Predicted Label: B-Disease\n",
      "Token: gradient, True Label: O, Predicted Label: I-Disease\n",
      "Token: gel, True Label: O, Predicted Label: I-Disease\n",
      "Token: electrophoresis, True Label: O, Predicted Label: I-Disease\n",
      "Token: the, True Label: B-Disease, Predicted Label: I-Disease\n",
      "Token: protein, True Label: B-Disease, Predicted Label: I-Disease\n",
      "Token: colorectal, True Label: O, Predicted Label: B-Disease\n",
      "Token: cancer, True Label: O, Predicted Label: I-Disease\n",
      "Token: patients, True Label: O, Predicted Label: I-Disease\n",
      "Token: ., True Label: O, Predicted Label: I-Disease\n",
      "Token: ., True Label: B-Disease, Predicted Label: I-Disease\n",
      "Token: Inherited, True Label: B-Disease, Predicted Label: O\n",
      "Token: colorectal, True Label: B-Disease, Predicted Label: O\n",
      "Token: polyposis, True Label: B-Disease, Predicted Label: O\n",
      "Token: and, True Label: I-Disease, Predicted Label: B-Disease\n",
      "Token: cancer, True Label: I-Disease, Predicted Label: B-Disease\n",
      "Token: risk, True Label: I-Disease, Predicted Label: B-Disease\n",
      "Token: 3, True Label: B-Disease, Predicted Label: O\n",
      "Token: %, True Label: B-Disease, Predicted Label: O\n",
      "Token: tumour, True Label: O, Predicted Label: B-Disease\n",
      "Token: suppressor, True Label: B-Disease, Predicted Label: I-Disease\n",
      "Token: gene, True Label: B-Disease, Predicted Label: I-Disease\n",
      "Token: carcinomas, True Label: O, Predicted Label: B-Disease\n"
     ]
    }
   ],
   "source": [
    "# Get predictions\n",
    "predictions, labels, _ = trainer.predict(tokenized_datasets['test'])\n",
    "predictions = np.argmax(predictions, axis=2)\n",
    "\n",
    "# Extract true labels and predictions\n",
    "true_labels = [\n",
    "    [label_list[l] for l in label if l != -100]\n",
    "    for label in labels\n",
    "]\n",
    "true_predictions = [\n",
    "    [label_list[p] for (p, l) in zip(prediction, label) if l != -100]\n",
    "    for prediction, label in zip(predictions, labels)\n",
    "]\n",
    "\n",
    "# Analyze errors\n",
    "#for i in range(len(true_predictions)):\n",
    "  #  for j in range(len(true_predictions[i])):\n",
    "    #    if true_predictions[i][j] != true_labels[i][j]:\n",
    "       #     token = tokenized_datasets['test']['tokens'][i][j]\n",
    "       #     print(f\"Token: {token}, True Label: {true_labels[i][j]}, Predicted Label: {true_predictions[i][j]}\")\n",
    "\n",
    "for i in range(len(true_predictions)):\n",
    "    for j in range(min(len(true_predictions[i]), len(true_labels[i]), len(tokenized_datasets['test']['tokens'][i]))):\n",
    "        if true_predictions[i][j] != true_labels[i][j]:\n",
    "            token = tokenized_datasets['test']['tokens'][i][j]\n",
    "            print(f\"Token: {token}, True Label: {true_labels[i][j]}, Predicted Label: {true_predictions[i][j]}\")"
   ]
  },
  {
   "cell_type": "code",
   "execution_count": 23,
   "id": "3fa587e2-2acb-426f-9d4a-fa558a485c57",
   "metadata": {},
   "outputs": [
    {
     "name": "stdout",
     "output_type": "stream",
     "text": [
      "33058\n",
      "29171\n"
     ]
    }
   ],
   "source": [
    "print(len(true_labels))\n",
    "print(len(true_predictions))"
   ]
  },
  {
   "cell_type": "code",
   "execution_count": 24,
   "id": "f418dcb2-f844-4b20-80bf-db6b3dc7c615",
   "metadata": {},
   "outputs": [
    {
     "name": "stdout",
     "output_type": "stream",
     "text": [
      "29171\n"
     ]
    }
   ],
   "source": [
    "true_predictions = [\n",
    "    label_list[p] for prediction in predictions for p, l in zip(prediction, labels[0]) if l != -100\n",
    "]\n",
    "print(len(true_predictions))  # Check the length of true_predictions"
   ]
  },
  {
   "cell_type": "code",
   "execution_count": 30,
   "id": "cb4bae5d-2177-4db6-9bfe-ec27a33bc290",
   "metadata": {},
   "outputs": [
    {
     "data": {
      "text/html": [],
      "text/plain": [
       "<IPython.core.display.HTML object>"
      ]
     },
     "metadata": {},
     "output_type": "display_data"
    },
    {
     "data": {
      "image/png": "[encoded data removed]",
      "text/plain": [
       "<Figure size 640x480 with 2 Axes>"
      ]
     },
     "metadata": {},
     "output_type": "display_data"
    }
   ],
   "source": [
    "import numpy as np\n",
    "import matplotlib.pyplot as plt\n",
    "from sklearn.metrics import confusion_matrix, ConfusionMatrixDisplay\n",
    "\n",
    "# Get predictions\n",
    "predictions, labels, _ = trainer.predict(tokenized_datasets['test'])\n",
    "predictions = np.argmax(predictions, axis=2)  # Convert logits to label indices\n",
    "\n",
    "# Flatten the predictions and labels, ignoring special tokens (-100)\n",
    "true_labels = []\n",
    "true_predictions = []\n",
    "\n",
    "for label_seq, pred_seq in zip(labels, predictions):\n",
    "    for label, pred in zip(label_seq, pred_seq):\n",
    "        if label != -100:  # Ignore special tokens\n",
    "            true_labels.append(label_list[label])  # Add the true label (use label_list to map)\n",
    "            true_predictions.append(label_list[pred])  # Add the predicted label (use label_list to map)\n",
    "\n",
    "# Generate confusion matrix\n",
    "cm = confusion_matrix(true_labels, true_predictions, labels=label_list)\n",
    "disp = ConfusionMatrixDisplay(confusion_matrix=cm, display_labels=label_list)\n",
    "\n",
    "# Plot the confusion matrix\n",
    "disp.plot(cmap='viridis', xticks_rotation='vertical')\n",
    "plt.title(\"Confusion Matrix for NER\")\n",
    "plt.show()\n",
    "\n"
   ]
  },
  {
   "cell_type": "code",
   "execution_count": null,
   "id": "f3c1b1bd-6b6e-449f-be6a-78c8cf9403af",
   "metadata": {},
   "outputs": [],
   "source": []
  },
  {
   "cell_type": "code",
   "execution_count": 31,
   "id": "1707cd4b-9ca4-4806-8404-6db52b6a772a",
   "metadata": {},
   "outputs": [
    {
     "name": "stdout",
     "output_type": "stream",
     "text": [
      "Classification Report:\n",
      "               precision    recall  f1-score   support\n",
      "\n",
      "           O       0.87      0.90      0.89      2276\n",
      "   B-Disease       0.86      0.92      0.89      2113\n",
      "   I-Disease       0.99      0.98      0.99     28669\n",
      "\n",
      "    accuracy                           0.98     33058\n",
      "   macro avg       0.91      0.94      0.92     33058\n",
      "weighted avg       0.98      0.98      0.98     33058\n",
      "\n"
     ]
    }
   ],
   "source": [
    "# Classification report\n",
    "report = classification_report(true_labels, true_predictions, target_names=label_list)\n",
    "print(\"Classification Report:\\n\", report)\n"
   ]
  },
  {
   "cell_type": "code",
   "execution_count": 21,
   "id": "ca38e66e-25e5-43de-9e76-64dde1279572",
   "metadata": {},
   "outputs": [],
   "source": [
    "#pip install matplotlib"
   ]
  },
  {
   "cell_type": "code",
   "execution_count": 33,
   "id": "800cfb7e-53ca-4763-b1bb-0d388fc8ca6b",
   "metadata": {},
   "outputs": [
    {
     "data": {
      "image/png": "[encoded data removed]",
      "text/plain": [
       "<Figure size 1000x800 with 1 Axes>"
      ]
     },
     "metadata": {},
     "output_type": "display_data"
    }
   ],
   "source": [
    "import numpy as np\n",
    "import matplotlib.pyplot as plt\n",
    "from sklearn.metrics import roc_curve, auc\n",
    "from sklearn.preprocessing import label_binarize\n",
    "from sklearn.metrics import RocCurveDisplay\n",
    "\n",
    "# Assuming you already have the following:\n",
    "# - `predictions` (probabilities) from the model\n",
    "# - `labels` (true labels) from the dataset\n",
    "# - `label_list` (all possible NER labels)\n",
    "\n",
    "# Get the predicted probabilities (not the argmax) - assuming `predictions` is logits\n",
    "predictions = np.array(predictions)  # logits output from the model\n",
    "predictions_prob = np.exp(predictions) / np.sum(np.exp(predictions), axis=-1, keepdims=True)  # Apply softmax\n",
    "\n",
    "# Binarize the true labels for each token (i.e., One-hot encoding for multi-class labels)\n",
    "# Flattening the labels and predictions while ignoring padding (-100)\n",
    "true_labels = []\n",
    "true_predictions = []\n",
    "for label_seq, pred_seq in zip(labels, predictions):\n",
    "    for label, pred in zip(label_seq, pred_seq):\n",
    "        if label != -100:  # Ignore special tokens\n",
    "            true_labels.append(label)  # True label (in class indices)\n",
    "            true_predictions.append(pred)  # Predicted probability (softmax outputs)\n",
    "\n",
    "# Binarize the true labels to One-hot encoding\n",
    "true_labels_bin = label_binarize(true_labels, classes=range(len(label_list)))  # Binary matrix for true labels\n",
    "predictions_bin = label_binarize(true_predictions, classes=range(len(label_list)))  # Binary matrix for predictions\n",
    "\n",
    "# Initialize the ROC curve plot\n",
    "plt.figure(figsize=(10, 8))\n",
    "\n",
    "# Calculate ROC curve for each label\n",
    "for i in range(len(label_list)):\n",
    "    fpr, tpr, _ = roc_curve(true_labels_bin[:, i], predictions_bin[:, i])\n",
    "    roc_auc = auc(fpr, tpr)\n",
    "    \n",
    "    # Plot each ROC curve\n",
    "    plt.plot(fpr, tpr, label=f'{label_list[i]} (AUC = {roc_auc:.2f})')\n",
    "\n",
    "# Plot the diagonal (random guessing curve)\n",
    "plt.plot([0, 1], [0, 1], color='navy', linestyle='--')\n",
    "\n",
    "# Labeling and formatting the plot\n",
    "plt.xlabel('False Positive Rate')\n",
    "plt.ylabel('True Positive Rate')\n",
    "plt.title('ROC Curves for NER Labels')\n",
    "plt.legend(loc='best')\n",
    "plt.grid(True)\n",
    "\n",
    "# Show the plot\n",
    "plt.show()\n"
   ]
  },
  {
   "cell_type": "code",
   "execution_count": null,
   "id": "ff367a23-237f-42e8-83d7-0db9d7cecb38",
   "metadata": {},
   "outputs": [],
   "source": [
    "# Error Analysis and Model Improvement"
   ]
  },
  {
   "cell_type": "code",
   "execution_count": 35,
   "id": "6c194c9b-d555-49d6-8e7e-8dd542271502",
   "metadata": {},
   "outputs": [
    {
     "data": {
      "image/png": "[encoded data removed]",
      "text/plain": [
       "<Figure size 1000x600 with 1 Axes>"
      ]
     },
     "metadata": {},
     "output_type": "display_data"
    }
   ],
   "source": [
    "import matplotlib.pyplot as plt\n",
    "\n",
    "# Access the training and evaluation loss from the trainer's log history\n",
    "train_losses = []\n",
    "eval_losses = []\n",
    "\n",
    "# Loop through the log history to extract loss values\n",
    "for log in trainer.state.log_history:\n",
    "    if 'loss' in log:\n",
    "        train_losses.append(log['loss'])  # Training loss\n",
    "    if 'eval_loss' in log:\n",
    "        eval_losses.append(log['eval_loss'])  # Evaluation loss\n",
    "\n",
    "# Plot the training and evaluation losses\n",
    "plt.figure(figsize=(10, 6))\n",
    "plt.plot(train_losses, label='Training Loss', color='blue')\n",
    "plt.plot(eval_losses, label='Evaluation Loss', color='red')\n",
    "plt.xlabel('Epoch')\n",
    "plt.ylabel('Loss')\n",
    "plt.title('Training and Evaluation Loss over Time')\n",
    "plt.legend()\n",
    "plt.grid(True)\n",
    "plt.show()\n"
   ]
  }
 ],
 "metadata": {
  "kernelspec": {
   "display_name": "Python 3 (ipykernel)",
   "language": "python",
   "name": "python3"
  },
  "language_info": {
   "codemirror_mode": {
    "name": "ipython",
    "version": 3
   },
   "file_extension": ".py",
   "mimetype": "text/x-python",
   "name": "python",
   "nbconvert_exporter": "python",
   "pygments_lexer": "ipython3",
   "version": "3.11.10"
  }
 },
 "nbformat": 4,
 "nbformat_minor": 5
}
